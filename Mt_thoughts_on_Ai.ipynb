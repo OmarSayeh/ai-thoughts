{
  "nbformat": 4,
  "nbformat_minor": 0,
  "metadata": {
    "colab": {
      "provenance": [],
      "authorship_tag": "ABX9TyOHz2qPozRYpyjLo4XNwnEA",
      "include_colab_link": true
    },
    "kernelspec": {
      "name": "python3",
      "display_name": "Python 3"
    },
    "language_info": {
      "name": "python"
    }
  },
  "cells": [
    {
      "cell_type": "markdown",
      "metadata": {
        "id": "view-in-github",
        "colab_type": "text"
      },
      "source": [
        "<a href=\"https://colab.research.google.com/github/OmarSayeh/ai-thoughts/blob/main/Mt_thoughts_on_Ai.ipynb\" target=\"_parent\"><img src=\"https://colab.research.google.com/assets/colab-badge.svg\" alt=\"Open In Colab\"/></a>"
      ]
    },
    {
      "cell_type": "markdown",
      "source": [
        "##  Things I want to do with AI\n",
        "    * disvoring new solution for some human problems"
      ],
      "metadata": {
        "id": "4nS2jD3KV_W3"
      }
    },
    {
      "cell_type": "code",
      "source": [],
      "metadata": {
        "id": "JWMFKSHnWShO"
      },
      "execution_count": null,
      "outputs": []
    }
  ]
}